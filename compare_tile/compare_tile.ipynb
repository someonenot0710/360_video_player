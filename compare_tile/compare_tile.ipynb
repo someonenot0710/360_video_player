{
 "cells": [
  {
   "cell_type": "code",
   "execution_count": 93,
   "metadata": {
    "collapsed": true
   },
   "outputs": [],
   "source": [
    "import re"
   ]
  },
  {
   "cell_type": "code",
   "execution_count": 94,
   "metadata": {
    "collapsed": true
   },
   "outputs": [],
   "source": [
    "cur_file_name = \"coaster_10x10_user07_segtile_2\"\n",
    "dr_file_name = \"coaster_user07_orientation_02\""
   ]
  },
  {
   "cell_type": "code",
   "execution_count": 95,
   "metadata": {},
   "outputs": [],
   "source": [
    "cur = open(cur_file_name)\n",
    "cur_original = cur.read().splitlines()\n",
    "cur_predict = [re.split(', | |\\n',line)[:-1] for line in cur_original]\n",
    "\n",
    "dr = open(dr_file_name)\n",
    "dr_original = dr.read().splitlines()\n",
    "dr_predict = [re.split(', | |\\n',line)[:-1] for line in dr_original]\n",
    "\n",
    "cur.close()\n",
    "dr.close()"
   ]
  },
  {
   "cell_type": "code",
   "execution_count": 96,
   "metadata": {},
   "outputs": [],
   "source": [
    "dr_time = 0.2\n",
    "patch = dict()\n",
    "\n",
    "for line in cur_predict:\n",
    "    segment_number = int(re.split('_| ',line[0])[-1]) # 1 ~ 60\n",
    "    patch[segment_number]=list()\n",
    "    for i in range(1,len(line)):\n",
    "        if float(line[i])==1:\n",
    "            patch[segment_number].append(i)\n",
    "\n",
    "            \n",
    "dr_patch = dict()\n",
    "for line in dr_predict[:-1]:\n",
    "    request_time = float(line[0].split(\"_\")[1])\n",
    "    request_segment = int(request_time+dr_time)+1\n",
    "    dr_patch[request_time]=list()\n",
    "    for i in range(1,len(line)):\n",
    "        if float(line[i])==1 and i not in patch[request_segment]:\n",
    "            dr_patch[request_time].append(i)\n",
    "            patch[request_segment].append(i)\n",
    "    "
   ]
  },
  {
   "cell_type": "code",
   "execution_count": 99,
   "metadata": {},
   "outputs": [],
   "source": [
    "urgent_file_name = cur_file_name +\"_\"+dr_file_name.split('_')[-1]\n",
    "urgent_file = open(urgent_file_name,'w')\n",
    "for item in dr_patch:\n",
    "    request_segment = int(float(item)+dr_time)+1\n",
    "    urgent_file.write(str(item)+\"_\"+str(request_segment))\n",
    "    for tile in dr_patch[item]:\n",
    "        urgent_file.write(\",\")\n",
    "        urgent_file.write(str(tile))\n",
    "    urgent_file.write('\\n')\n",
    "urgnet_tile.close()\n",
    "    "
   ]
  },
  {
   "cell_type": "code",
   "execution_count": null,
   "metadata": {
    "collapsed": true
   },
   "outputs": [],
   "source": []
  }
 ],
 "metadata": {
  "kernelspec": {
   "display_name": "Python 3",
   "language": "python",
   "name": "python3"
  },
  "language_info": {
   "codemirror_mode": {
    "name": "ipython",
    "version": 3
   },
   "file_extension": ".py",
   "mimetype": "text/x-python",
   "name": "python",
   "nbconvert_exporter": "python",
   "pygments_lexer": "ipython3",
   "version": "3.6.7"
  },
  "latex_envs": {
   "LaTeX_envs_menu_present": true,
   "autoclose": false,
   "autocomplete": true,
   "bibliofile": "biblio.bib",
   "cite_by": "apalike",
   "current_citInitial": 1,
   "eqLabelWithNumbers": true,
   "eqNumInitial": 1,
   "hotkeys": {
    "equation": "Ctrl-E",
    "itemize": "Ctrl-I"
   },
   "labels_anchors": false,
   "latex_user_defs": false,
   "report_style_numbering": false,
   "user_envs_cfg": false
  }
 },
 "nbformat": 4,
 "nbformat_minor": 2
}
