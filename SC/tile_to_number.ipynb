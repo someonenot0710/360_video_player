{
 "cells": [
  {
   "cell_type": "code",
   "execution_count": 1,
   "metadata": {
    "collapsed": true
   },
   "outputs": [],
   "source": [
    "import re\n",
    "from os import listdir\n",
    "from os.path import isfile, join"
   ]
  },
  {
   "cell_type": "code",
   "execution_count": 2,
   "metadata": {
    "collapsed": true
   },
   "outputs": [],
   "source": [
    "out_path = \"gt_frame_num/\"\n",
    "dr_path = \"gt_frame/\"\n"
   ]
  },
  {
   "cell_type": "code",
   "execution_count": 3,
   "metadata": {
    "collapsed": true
   },
   "outputs": [],
   "source": [
    "onlyfiles = [f for f in listdir(dr_path) if isfile(join(dr_path, f))]\n",
    "\n",
    "for cur_file_name in onlyfiles:\n",
    "    cur = open(dr_path+cur_file_name)\n",
    "    cur_original = cur.read().splitlines()\n",
    "    cur_predict = [re.split(', | |\\n',line)[:-1] for line in cur_original]\n",
    "    out_file_name = out_path+cur_file_name\n",
    "    out = open(out_file_name,\"w\")\n",
    "    for line in cur_predict:\n",
    "        segment_num = int(line[0][3:])\n",
    "        out.write(str(segment_num))\n",
    "        for i in range(1,len(line)):\n",
    "            if float(line[i])==float(1):\n",
    "                out.write(\",\")\n",
    "                out.write(str(i))\n",
    "        out.write(\"\\n\")    "
   ]
  },
  {
   "cell_type": "code",
   "execution_count": null,
   "metadata": {
    "collapsed": true
   },
   "outputs": [],
   "source": []
  }
 ],
 "metadata": {
  "kernelspec": {
   "display_name": "Python 3",
   "language": "python",
   "name": "python3"
  },
  "language_info": {
   "codemirror_mode": {
    "name": "ipython",
    "version": 3
   },
   "file_extension": ".py",
   "mimetype": "text/x-python",
   "name": "python",
   "nbconvert_exporter": "python",
   "pygments_lexer": "ipython3",
   "version": "3.6.7"
  },
  "latex_envs": {
   "LaTeX_envs_menu_present": true,
   "autoclose": false,
   "autocomplete": true,
   "bibliofile": "biblio.bib",
   "cite_by": "apalike",
   "current_citInitial": 1,
   "eqLabelWithNumbers": true,
   "eqNumInitial": 1,
   "hotkeys": {
    "equation": "Ctrl-E",
    "itemize": "Ctrl-I"
   },
   "labels_anchors": false,
   "latex_user_defs": false,
   "report_style_numbering": false,
   "user_envs_cfg": false
  }
 },
 "nbformat": 4,
 "nbformat_minor": 2
}
