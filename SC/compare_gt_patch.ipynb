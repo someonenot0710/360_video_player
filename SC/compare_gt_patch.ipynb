{
 "cells": [
  {
   "cell_type": "code",
   "execution_count": 20,
   "metadata": {
    "collapsed": true
   },
   "outputs": [],
   "source": [
    "import math"
   ]
  },
  {
   "cell_type": "code",
   "execution_count": 21,
   "metadata": {
    "collapsed": true
   },
   "outputs": [],
   "source": [
    "## read ground truth and make 30 frame into 1 segment -- get all viewed tiles\n",
    "dir_path = './gt_frame_num/'\n",
    "user_file_name = \"coaster_10x10_user27_segtile\"\n",
    "gt_trace=dict()\n",
    "trace = open(dir_path+user_file_name)\n",
    "trace_data = trace.read().splitlines()\n",
    "for frame in range(0,len(trace_data)):\n",
    "    split = trace_data[frame].split(\",\")\n",
    "    gt_trace[int(split[0])]=list()\n",
    "    for j in range(1,len(split)):\n",
    "        gt_trace[int(split[0])].append(int(split[j]))"
   ]
  },
  {
   "cell_type": "code",
   "execution_count": 22,
   "metadata": {
    "collapsed": true
   },
   "outputs": [],
   "source": [
    "real_trace = dict()\n",
    "for i in range(1,61):\n",
    "    real_trace[i]=list()\n",
    "    real_trace[i].append(0)\n",
    "\n",
    "for i in range (0,len(gt_trace)):\n",
    "    segment = math.floor(i/30.0)+1\n",
    "    \n",
    "    for item in gt_trace[i+1]:\n",
    "        if int(item) not in real_trace[segment]:\n",
    "            real_trace[segment].append(int(item))\n",
    "for i in range(1,61):\n",
    "    real_trace[i].sort() ## real ground truth in segment 1~60"
   ]
  },
  {
   "cell_type": "code",
   "execution_count": 23,
   "metadata": {
    "collapsed": true
   },
   "outputs": [],
   "source": [
    "def get_request_number (my_file):\n",
    "    dir_path = '../experiment/'\n",
    "    file_path = dir_path+my_file+\".txt\"\n",
    "    my_file = open(file_path)\n",
    "    my_file_all = my_file.read().splitlines()\n",
    "    my_file_dict = dict() \n",
    "\n",
    "    for line in my_file_all:\n",
    "        split = line.split(\",\")\n",
    "        my_file_dict[int(split[0])]=list()\n",
    "        for number in range(1,len(split)):\n",
    "            my_file_dict[int(split[0])].append(int(split[number]))\n",
    "        my_file_dict[int(split[0])].sort()\n",
    "    return my_file_dict"
   ]
  },
  {
   "cell_type": "code",
   "execution_count": 24,
   "metadata": {
    "collapsed": true
   },
   "outputs": [],
   "source": [
    "total_request = get_request_number('total_request')\n",
    "current_request = get_request_number('current_request')\n",
    "patch_request = get_request_number('patch_request')\n",
    "\n",
    "# dr_current_file = open('../total_request.txt') \n",
    "# dr_current_all = dr_current_file.read().splitlines()\n",
    "# dr_current = dict() ## dr current \n",
    "\n",
    "# for line in dr_current_all:\n",
    "#     split = line.split(\",\")\n",
    "#     dr_current[int(split[0])]=list()\n",
    "#     for number in range(1,len(split)):\n",
    "#         dr_current[int(split[0])].append(int(split[number]))\n",
    "#     dr_current[int(split[0])].sort()"
   ]
  },
  {
   "cell_type": "code",
   "execution_count": 25,
   "metadata": {
    "scrolled": false
   },
   "outputs": [
    {
     "name": "stdout",
     "output_type": "stream",
     "text": [
      "segment: 1 , same percentage: 1.000000 , different count:0\n",
      "segment: 2 , same percentage: 1.000000 , different count:0\n",
      "segment: 3 , same percentage: 1.000000 , different count:22\n",
      "segment: 4 , same percentage: 1.000000 , different count:23\n",
      "segment: 5 , same percentage: 1.000000 , different count:12\n",
      "segment: 6 , same percentage: 1.000000 , different count:12\n",
      "segment: 7 , same percentage: 0.958333 , different count:36\n",
      "segment: 8 , same percentage: 0.958333 , different count:28\n",
      "segment: 9 , same percentage: 1.000000 , different count:33\n",
      "segment: 10 , same percentage: 1.000000 , different count:33\n",
      "segment: 11 , same percentage: 1.000000 , different count:28\n",
      "segment: 12 , same percentage: 1.000000 , different count:8\n",
      "segment: 13 , same percentage: 1.000000 , different count:34\n",
      "segment: 14 , same percentage: 1.000000 , different count:29\n",
      "segment: 15 , same percentage: 1.000000 , different count:34\n",
      "segment: 16 , same percentage: 1.000000 , different count:34\n",
      "segment: 17 , same percentage: 1.000000 , different count:25\n",
      "segment: 18 , same percentage: 1.000000 , different count:20\n",
      "segment: 19 , same percentage: 0.958333 , different count:11\n",
      "segment: 20 , same percentage: 0.958333 , different count:9\n",
      "segment: 21 , same percentage: 0.960000 , different count:11\n",
      "segment: 22 , same percentage: 1.000000 , different count:9\n",
      "segment: 23 , same percentage: 0.960000 , different count:12\n",
      "segment: 24 , same percentage: 0.960000 , different count:3\n",
      "segment: 25 , same percentage: 0.961538 , different count:3\n",
      "segment: 26 , same percentage: 0.900000 , different count:1\n",
      "segment: 27 , same percentage: 0.617647 , different count:7\n",
      "segment: 28 , same percentage: 0.625000 , different count:8\n",
      "segment: 29 , same percentage: 0.527778 , different count:8\n",
      "segment: 30 , same percentage: 0.619048 , different count:2\n",
      "segment: 31 , same percentage: 0.823529 , different count:7\n",
      "segment: 32 , same percentage: 0.838710 , different count:9\n",
      "segment: 33 , same percentage: 0.500000 , different count:23\n",
      "segment: 34 , same percentage: 0.176471 , different count:23\n",
      "segment: 35 , same percentage: 0.485714 , different count:13\n",
      "segment: 36 , same percentage: 0.866667 , different count:1\n",
      "segment: 37 , same percentage: 0.702703 , different count:9\n",
      "segment: 38 , same percentage: 0.862069 , different count:13\n",
      "segment: 39 , same percentage: 0.769231 , different count:8\n",
      "segment: 40 , same percentage: 0.611111 , different count:3\n",
      "segment: 41 , same percentage: 0.814815 , different count:12\n",
      "segment: 42 , same percentage: 0.769231 , different count:15\n",
      "segment: 43 , same percentage: 0.888889 , different count:9\n",
      "segment: 44 , same percentage: 0.920000 , different count:5\n",
      "segment: 45 , same percentage: 0.916667 , different count:5\n",
      "segment: 46 , same percentage: 0.928571 , different count:2\n",
      "segment: 47 , same percentage: 0.920000 , different count:8\n",
      "segment: 48 , same percentage: 0.923077 , different count:4\n",
      "segment: 49 , same percentage: 0.920000 , different count:4\n",
      "segment: 50 , same percentage: 0.846154 , different count:4\n",
      "segment: 51 , same percentage: 0.840000 , different count:5\n",
      "segment: 52 , same percentage: 0.956522 , different count:4\n",
      "segment: 53 , same percentage: 0.774194 , different count:2\n",
      "segment: 54 , same percentage: 0.733333 , different count:5\n",
      "segment: 55 , same percentage: 0.920000 , different count:2\n",
      "segment: 56 , same percentage: 0.884615 , different count:2\n",
      "segment: 57 , same percentage: 0.800000 , different count:12\n",
      "segment: 58 , same percentage: 0.875000 , different count:4\n",
      "segment: 59 , same percentage: 0.960000 , different count:2\n",
      "segment: 60 , same percentage: 0.923077 , different count:2\n",
      "avg accuracy 0.868578 \n",
      "total redundant file 712\n",
      "2083\n"
     ]
    }
   ],
   "source": [
    "total_same=0\n",
    "total_different=0\n",
    "avg_accuracy=0.0\n",
    "# a = open ('a.txt',\"w\")\n",
    "for i in range(1,61):\n",
    "    same=0\n",
    "    different=0\n",
    "    for item in total_request[i]:\n",
    "        if int(item) in real_trace[i]:\n",
    "            same+=1\n",
    "            total_same+=1\n",
    "        else:\n",
    "            different+=1\n",
    "            total_different+=1\n",
    "#     a.write(\"segment:\")\n",
    "#     a.write(str(i)+\", \")\n",
    "#     a.write(\"same percentage:\")\n",
    "#     a.write(str(float(same/len(real_trace[i])))+\", \")\n",
    "#     a.write(\"different count:\"+str(different)+\", \")\n",
    "#     a.write(\"over download percentage: \"+str(float(total_different/(total_different+total_same)))+\"\\n\")\n",
    "    print(\"segment: %d , same percentage: %f , different count:%d\"%(i,float(same/len(real_trace[i])),different))\n",
    "    avg_accuracy += float(same/len(real_trace[i]))\n",
    "#     print(\"over download percentage: %f\"%(float(total_different/(total_different+total_same))))\n",
    "print(\"avg accuracy %f \"%(avg_accuracy/60))\n",
    "print(\"total redundant file %d\"%(total_different))\n",
    "print(total_same+total_different)\n",
    "\n",
    "# a.close()"
   ]
  },
  {
   "cell_type": "code",
   "execution_count": 46,
   "metadata": {},
   "outputs": [
    {
     "name": "stdout",
     "output_type": "stream",
     "text": [
      "segment: 1 , same percentage: 0.960000 , different count:0\n",
      "segment: 2 , same percentage: 0.781250 , different count:4\n",
      "segment: 3 , same percentage: 0.969697 , different count:19\n",
      "segment: 4 , same percentage: 1.000000 , different count:44\n",
      "segment: 5 , same percentage: 0.958333 , different count:24\n",
      "segment: 6 , same percentage: 0.838710 , different count:10\n",
      "segment: 7 , same percentage: 0.968750 , different count:21\n",
      "segment: 8 , same percentage: 0.870968 , different count:27\n",
      "segment: 9 , same percentage: 0.931034 , different count:47\n",
      "segment: 10 , same percentage: 1.000000 , different count:23\n",
      "segment: 11 , same percentage: 0.433962 , different count:17\n",
      "segment: 12 , same percentage: 0.809524 , different count:23\n",
      "segment: 13 , same percentage: 0.846154 , different count:17\n",
      "segment: 14 , same percentage: 0.882353 , different count:15\n",
      "segment: 15 , same percentage: 0.823529 , different count:11\n",
      "segment: 16 , same percentage: 0.891892 , different count:2\n",
      "segment: 17 , same percentage: 0.809524 , different count:4\n",
      "segment: 18 , same percentage: 0.888889 , different count:26\n",
      "segment: 19 , same percentage: 0.806452 , different count:19\n",
      "segment: 20 , same percentage: 0.842105 , different count:19\n",
      "segment: 21 , same percentage: 0.923077 , different count:33\n",
      "segment: 22 , same percentage: 0.846154 , different count:36\n",
      "segment: 23 , same percentage: 0.967742 , different count:26\n",
      "segment: 24 , same percentage: 0.740741 , different count:8\n",
      "segment: 25 , same percentage: 0.880000 , different count:18\n",
      "segment: 26 , same percentage: 0.840000 , different count:21\n",
      "segment: 27 , same percentage: 0.960000 , different count:16\n",
      "segment: 28 , same percentage: 1.000000 , different count:12\n",
      "segment: 29 , same percentage: 1.000000 , different count:6\n",
      "segment: 30 , same percentage: 1.000000 , different count:13\n",
      "segment: 31 , same percentage: 1.000000 , different count:5\n",
      "segment: 32 , same percentage: 0.880000 , different count:8\n",
      "segment: 33 , same percentage: 1.000000 , different count:17\n",
      "segment: 34 , same percentage: 1.000000 , different count:12\n",
      "segment: 35 , same percentage: 1.000000 , different count:9\n",
      "segment: 36 , same percentage: 1.000000 , different count:8\n",
      "segment: 37 , same percentage: 1.000000 , different count:4\n",
      "segment: 38 , same percentage: 1.000000 , different count:4\n",
      "segment: 39 , same percentage: 1.000000 , different count:4\n",
      "segment: 40 , same percentage: 1.000000 , different count:3\n",
      "segment: 41 , same percentage: 0.875000 , different count:6\n",
      "segment: 42 , same percentage: 0.875000 , different count:5\n",
      "segment: 43 , same percentage: 0.814815 , different count:8\n",
      "segment: 44 , same percentage: 0.884615 , different count:15\n",
      "segment: 45 , same percentage: 0.958333 , different count:8\n",
      "segment: 46 , same percentage: 0.958333 , different count:10\n",
      "segment: 47 , same percentage: 0.965517 , different count:16\n",
      "segment: 48 , same percentage: 0.958333 , different count:15\n",
      "segment: 49 , same percentage: 0.880000 , different count:14\n",
      "segment: 50 , same percentage: 0.880000 , different count:12\n",
      "segment: 51 , same percentage: 0.961538 , different count:11\n",
      "segment: 52 , same percentage: 0.875000 , different count:9\n",
      "segment: 53 , same percentage: 0.958333 , different count:9\n",
      "segment: 54 , same percentage: 0.958333 , different count:8\n",
      "segment: 55 , same percentage: 0.916667 , different count:6\n",
      "segment: 56 , same percentage: 1.000000 , different count:6\n",
      "segment: 57 , same percentage: 1.000000 , different count:6\n",
      "segment: 58 , same percentage: 1.000000 , different count:6\n",
      "segment: 59 , same percentage: 1.000000 , different count:6\n",
      "segment: 60 , same percentage: 1.000000 , different count:6\n",
      "avg accuracy 0.917844 \n",
      "total redundant file 817\n",
      "2282\n"
     ]
    }
   ],
   "source": [
    "total_request_square = get_request_number('back/total_request')\n",
    "total_same=0\n",
    "total_different=0\n",
    "avg_accuracy=0.0\n",
    "\n",
    "# a = open ('a.txt',\"w\")\n",
    "for i in range(1,61):\n",
    "    same=0\n",
    "    different=0\n",
    "    for item in total_request_square[i]:\n",
    "        if int(item) in real_trace[i]:\n",
    "            same+=1\n",
    "            total_same+=1\n",
    "        else:\n",
    "            different+=1\n",
    "            total_different+=1\n",
    "#     a.write(\"segment:\")\n",
    "#     a.write(str(i)+\", \")\n",
    "#     a.write(\"same percentage:\")\n",
    "#     a.write(str(float(same/len(real_trace[i])))+\", \")\n",
    "#     a.write(\"different count:\"+str(different)+\", \")\n",
    "#     a.write(\"over download percentage: \"+str(float(total_different/(total_different+total_same)))+\"\\n\")\n",
    "    print(\"segment: %d , same percentage: %f , different count:%d\"%(i,float(same/len(real_trace[i])),different))\n",
    "#     print(\"over download percentage: %f\"%(float(total_different/(total_different+total_same))))\n",
    "    avg_accuracy += float(same/len(real_trace[i]))\n",
    "print(\"avg accuracy %f \"%(avg_accuracy/60))   \n",
    "print(\"total redundant file %d\"%(total_different))\n",
    "print(total_same+total_different)\n",
    "# a.close()"
   ]
  },
  {
   "cell_type": "code",
   "execution_count": null,
   "metadata": {
    "collapsed": true
   },
   "outputs": [],
   "source": []
  },
  {
   "cell_type": "code",
   "execution_count": null,
   "metadata": {
    "collapsed": true
   },
   "outputs": [],
   "source": []
  }
 ],
 "metadata": {
  "kernelspec": {
   "display_name": "Python 3",
   "language": "python",
   "name": "python3"
  },
  "language_info": {
   "codemirror_mode": {
    "name": "ipython",
    "version": 3
   },
   "file_extension": ".py",
   "mimetype": "text/x-python",
   "name": "python",
   "nbconvert_exporter": "python",
   "pygments_lexer": "ipython3",
   "version": "3.6.7"
  },
  "latex_envs": {
   "LaTeX_envs_menu_present": true,
   "autoclose": false,
   "autocomplete": true,
   "bibliofile": "biblio.bib",
   "cite_by": "apalike",
   "current_citInitial": 1,
   "eqLabelWithNumbers": true,
   "eqNumInitial": 1,
   "hotkeys": {
    "equation": "Ctrl-E",
    "itemize": "Ctrl-I"
   },
   "labels_anchors": false,
   "latex_user_defs": false,
   "report_style_numbering": false,
   "user_envs_cfg": false
  }
 },
 "nbformat": 4,
 "nbformat_minor": 2
}
