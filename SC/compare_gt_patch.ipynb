{
 "cells": [
  {
   "cell_type": "code",
   "execution_count": 71,
   "metadata": {
    "collapsed": true
   },
   "outputs": [],
   "source": [
    "import math"
   ]
  },
  {
   "cell_type": "code",
   "execution_count": 72,
   "metadata": {},
   "outputs": [],
   "source": [
    "video = \"diving\"\n",
    "user = \"30\"\n",
    "deg = \"v120\"\n",
    "seg_num=58\n",
    "## read ground truth and make 30 frame into 1 segment -- get all viewed tiles\n",
    "dir_path = './gt_frame_num/'\n",
    "user_file_name = video+\"_10x10_user\"+user+\"_segtile\"\n",
    "gt_trace=dict()\n",
    "trace = open(dir_path+user_file_name)\n",
    "trace_data = trace.read().splitlines()\n",
    "for frame in range(0,len(trace_data)):\n",
    "    split = trace_data[frame].split(\",\")\n",
    "    gt_trace[int(split[0])]=list()\n",
    "    for j in range(1,len(split)):\n",
    "        gt_trace[int(split[0])].append(int(split[j]))"
   ]
  },
  {
   "cell_type": "code",
   "execution_count": 73,
   "metadata": {
    "collapsed": true
   },
   "outputs": [],
   "source": [
    "real_trace = dict()\n",
    "for i in range(1,61):\n",
    "    real_trace[i]=list()\n",
    "    real_trace[i].append(0)\n",
    "\n",
    "for i in range (0,len(gt_trace)):\n",
    "    segment = math.floor(i/30.0)+1\n",
    "    \n",
    "    for item in gt_trace[i+1]:\n",
    "        if int(item) not in real_trace[segment]:\n",
    "            real_trace[segment].append(int(item))\n",
    "\n",
    "# for i in range (1,61):\n",
    "#     frame = (i-1)*30 +1\n",
    "#     for item in gt_trace[frame]:\n",
    "#         real_trace[i].append(item)\n",
    "\n",
    "for i in range(1,61):\n",
    "    real_trace[i].sort() ## real ground truth in segment 1~60"
   ]
  },
  {
   "cell_type": "code",
   "execution_count": 74,
   "metadata": {
    "collapsed": true
   },
   "outputs": [],
   "source": [
    "def get_request_number (my_file):\n",
    "    dir_path = '../experiment/'+deg+'/'+video+\"/\"\n",
    "#     dir_path = '../experiment/user'+user+\"/\"+video+\"/\"\n",
    "#     dir_path = '../experiment/'+deg+'/user'+user+\"_tan/\"+video+\"/\"\n",
    "#     dir_path = '../../server_file/experiment/user'+user+'_no'+\"/\"+video+\"/\"\n",
    "    file_path = dir_path+my_file+\".txt\"\n",
    "    my_f = open(file_path)\n",
    "    my_file_all = my_f.read().splitlines()\n",
    "    my_file_dict = dict() \n",
    "\n",
    "    \n",
    "    if my_file == 'total_request':\n",
    "        my_file_all = my_file_all[:-1]\n",
    "    \n",
    "    for line in my_file_all:\n",
    "#         print(line)\n",
    "        split = line.split(\",\")\n",
    "        my_file_dict[int(split[0])]=list()\n",
    "        for number in range(1,len(split)):\n",
    "            my_file_dict[int(split[0])].append(int(split[number]))\n",
    "        my_file_dict[int(split[0])].sort()\n",
    "    return my_file_dict"
   ]
  },
  {
   "cell_type": "code",
   "execution_count": 75,
   "metadata": {},
   "outputs": [],
   "source": [
    "total_request = get_request_number('total_request')\n",
    "current_request = get_request_number('current_request')\n",
    "patch_request = get_request_number('patch_request')\n",
    "\n",
    "# print(patch_request[3])\n",
    "# dr_current_file = open('../total_request.txt') \n",
    "# dr_current_all = dr_current_file.read().splitlines()\n",
    "# dr_current = dict() ## dr current \n",
    "\n",
    "# for line in dr_current_all:\n",
    "#     split = line.split(\",\")\n",
    "#     dr_current[int(split[0])]=list()\n",
    "#     for number in range(1,len(split)):\n",
    "#         dr_current[int(split[0])].append(int(split[number]))\n",
    "#     dr_current[int(split[0])].sort()"
   ]
  },
  {
   "cell_type": "code",
   "execution_count": 76,
   "metadata": {
    "scrolled": false
   },
   "outputs": [
    {
     "name": "stdout",
     "output_type": "stream",
     "text": [
      "avg accuracy 0.443865 \n",
      "total redundant file 1042\n"
     ]
    }
   ],
   "source": [
    "total_same=0\n",
    "total_different=0\n",
    "avg_accuracy=0.0\n",
    "\n",
    "for i in range(61-seg_num,61):\n",
    "    same=0\n",
    "    different=0\n",
    "    for item in current_request[i]:\n",
    "        if int(item) in real_trace[i]:\n",
    "            same+=1\n",
    "            total_same+=1\n",
    "        else:\n",
    "            different+=1\n",
    "            total_different+=1\n",
    "#     print(\"segment: %d , same percentage: %f , different count:%d\"%(i,float(same/len(real_trace[i])),different))\n",
    "    avg_accuracy += float(same/seg_num)\n",
    "#     print(\"over download percentage: %f\"%(float(total_different/(total_different+total_same))))\n",
    "print(\"avg accuracy %f \"%(avg_accuracy/len(real_trace[i])))\n",
    "print(\"total redundant file %d\"%(total_different))\n",
    "# print(total_same+total_different)\n",
    "\n",
    "# a.close()"
   ]
  },
  {
   "cell_type": "code",
   "execution_count": 77,
   "metadata": {
    "scrolled": true
   },
   "outputs": [
    {
     "name": "stdout",
     "output_type": "stream",
     "text": [
      "avg accuracy 0.944191 \n",
      "total redundant file 1430\n"
     ]
    }
   ],
   "source": [
    "total_same=0\n",
    "total_different=0\n",
    "avg_accuracy=0.0\n",
    "\n",
    "for i in range(61-seg_num,61):\n",
    "    same=0\n",
    "    different=0\n",
    "    for item in total_request[i]:\n",
    "        if int(item) in real_trace[i]:\n",
    "            same+=1\n",
    "            total_same+=1\n",
    "        else:\n",
    "            different+=1\n",
    "            total_different+=1\n",
    "#     print(\"segment: %d , same percentage: %f , different count:%d\"%(i,float(same/len(real_trace[i])),different))\n",
    "    avg_accuracy += float(same/len(real_trace[i]))\n",
    "#     print(\"over download percentage: %f\"%(float(total_different/(total_different+total_same))))\n",
    "print(\"avg accuracy %f \"%(avg_accuracy/seg_num))\n",
    "print(\"total redundant file %d\"%(total_different))\n",
    "# print(total_same+total_different)"
   ]
  },
  {
   "cell_type": "markdown",
   "metadata": {
    "collapsed": true
   },
   "source": [
    "# Diving user20\n",
    "## tan\n",
    "d=120\n",
    "avg accuracy 0.680479 \n",
    "total redundant file 978\n",
    "avg accuracy 0.989315 \n",
    "total redundant file 1372\n",
    "<br>\n",
    "d=110\n",
    "avg accuracy 0.629275 \n",
    "total redundant file 817\n",
    "avg accuracy 0.971732 \n",
    "total redundant file 1163\n",
    "<br>\n",
    "d=100\n",
    "avg accuracy 0.539665 \n",
    "total redundant file 576\n",
    "avg accuracy 0.911747 \n",
    "total redundant file 739\n",
    "\n",
    "## arcsin\n",
    "d=120\n",
    "avg accuracy 0.652383 \n",
    "total redundant file 913\n",
    "avg accuracy 0.981704 \n",
    "total redundant file 1250\n",
    "<br>\n",
    "d=110\n",
    "avg accuracy 0.618170 \n",
    "total redundant file 880\n",
    "avg accuracy 0.968273 \n",
    "total redundant file 1309\n",
    "<br>\n",
    "d=100\n",
    "avg accuracy 0.527777 \n",
    "total redundant file 545\n",
    "avg accuracy 0.905292 \n",
    "total redundant file 685"
   ]
  },
  {
   "cell_type": "markdown",
   "metadata": {
    "collapsed": true
   },
   "source": [
    "# Coaster user30\n",
    "\n",
    "## tan\n",
    "d=100\n",
    "avg accuracy 0.459809 \n",
    "total redundant file 768\n",
    "avg accuracy 0.919814 \n",
    "total redundant file 1106\n",
    "\n",
    "d=110\n",
    "avg accuracy 0.541541 \n",
    "total redundant file 1077\n",
    "avg accuracy 0.992408 \n",
    "total redundant file 1627\n",
    "\n",
    "d=120\n",
    "avg accuracy 0.590827 \n",
    "total redundant file 1317\n",
    "avg accuracy 1.000000 \n",
    "total redundant file 2035\n",
    "\n",
    "## arcsin\n",
    "d=100\n",
    "avg accuracy 0.444880 \n",
    "total redundant file 735\n",
    "avg accuracy 0.915581 \n",
    "total redundant file 1032\n",
    "\n",
    "d=110\n",
    "avg accuracy 0.560335 \n",
    "total redundant file 1106\n",
    "avg accuracy 0.989701 \n",
    "total redundant file 1642\n",
    "\n",
    "d=120\n",
    "avg accuracy 0.569571 \n",
    "total redundant file 1215\n",
    "avg accuracy 0.997972 \n",
    "total redundant file 1856"
   ]
  },
  {
   "cell_type": "code",
   "execution_count": null,
   "metadata": {
    "collapsed": true
   },
   "outputs": [],
   "source": []
  },
  {
   "cell_type": "code",
   "execution_count": null,
   "metadata": {
    "collapsed": true
   },
   "outputs": [],
   "source": []
  },
  {
   "cell_type": "code",
   "execution_count": 46,
   "metadata": {},
   "outputs": [
    {
     "name": "stdout",
     "output_type": "stream",
     "text": [
      "segment: 1 , same percentage: 0.960000 , different count:0\n",
      "segment: 2 , same percentage: 0.781250 , different count:4\n",
      "segment: 3 , same percentage: 0.969697 , different count:19\n",
      "segment: 4 , same percentage: 1.000000 , different count:44\n",
      "segment: 5 , same percentage: 0.958333 , different count:24\n",
      "segment: 6 , same percentage: 0.838710 , different count:10\n",
      "segment: 7 , same percentage: 0.968750 , different count:21\n",
      "segment: 8 , same percentage: 0.870968 , different count:27\n",
      "segment: 9 , same percentage: 0.931034 , different count:47\n",
      "segment: 10 , same percentage: 1.000000 , different count:23\n",
      "segment: 11 , same percentage: 0.433962 , different count:17\n",
      "segment: 12 , same percentage: 0.809524 , different count:23\n",
      "segment: 13 , same percentage: 0.846154 , different count:17\n",
      "segment: 14 , same percentage: 0.882353 , different count:15\n",
      "segment: 15 , same percentage: 0.823529 , different count:11\n",
      "segment: 16 , same percentage: 0.891892 , different count:2\n",
      "segment: 17 , same percentage: 0.809524 , different count:4\n",
      "segment: 18 , same percentage: 0.888889 , different count:26\n",
      "segment: 19 , same percentage: 0.806452 , different count:19\n",
      "segment: 20 , same percentage: 0.842105 , different count:19\n",
      "segment: 21 , same percentage: 0.923077 , different count:33\n",
      "segment: 22 , same percentage: 0.846154 , different count:36\n",
      "segment: 23 , same percentage: 0.967742 , different count:26\n",
      "segment: 24 , same percentage: 0.740741 , different count:8\n",
      "segment: 25 , same percentage: 0.880000 , different count:18\n",
      "segment: 26 , same percentage: 0.840000 , different count:21\n",
      "segment: 27 , same percentage: 0.960000 , different count:16\n",
      "segment: 28 , same percentage: 1.000000 , different count:12\n",
      "segment: 29 , same percentage: 1.000000 , different count:6\n",
      "segment: 30 , same percentage: 1.000000 , different count:13\n",
      "segment: 31 , same percentage: 1.000000 , different count:5\n",
      "segment: 32 , same percentage: 0.880000 , different count:8\n",
      "segment: 33 , same percentage: 1.000000 , different count:17\n",
      "segment: 34 , same percentage: 1.000000 , different count:12\n",
      "segment: 35 , same percentage: 1.000000 , different count:9\n",
      "segment: 36 , same percentage: 1.000000 , different count:8\n",
      "segment: 37 , same percentage: 1.000000 , different count:4\n",
      "segment: 38 , same percentage: 1.000000 , different count:4\n",
      "segment: 39 , same percentage: 1.000000 , different count:4\n",
      "segment: 40 , same percentage: 1.000000 , different count:3\n",
      "segment: 41 , same percentage: 0.875000 , different count:6\n",
      "segment: 42 , same percentage: 0.875000 , different count:5\n",
      "segment: 43 , same percentage: 0.814815 , different count:8\n",
      "segment: 44 , same percentage: 0.884615 , different count:15\n",
      "segment: 45 , same percentage: 0.958333 , different count:8\n",
      "segment: 46 , same percentage: 0.958333 , different count:10\n",
      "segment: 47 , same percentage: 0.965517 , different count:16\n",
      "segment: 48 , same percentage: 0.958333 , different count:15\n",
      "segment: 49 , same percentage: 0.880000 , different count:14\n",
      "segment: 50 , same percentage: 0.880000 , different count:12\n",
      "segment: 51 , same percentage: 0.961538 , different count:11\n",
      "segment: 52 , same percentage: 0.875000 , different count:9\n",
      "segment: 53 , same percentage: 0.958333 , different count:9\n",
      "segment: 54 , same percentage: 0.958333 , different count:8\n",
      "segment: 55 , same percentage: 0.916667 , different count:6\n",
      "segment: 56 , same percentage: 1.000000 , different count:6\n",
      "segment: 57 , same percentage: 1.000000 , different count:6\n",
      "segment: 58 , same percentage: 1.000000 , different count:6\n",
      "segment: 59 , same percentage: 1.000000 , different count:6\n",
      "segment: 60 , same percentage: 1.000000 , different count:6\n",
      "avg accuracy 0.917844 \n",
      "total redundant file 817\n",
      "2282\n"
     ]
    }
   ],
   "source": [
    "total_request_square = get_request_number('back/total_request')\n",
    "total_same=0\n",
    "total_different=0\n",
    "avg_accuracy=0.0\n",
    "\n",
    "# a = open ('a.txt',\"w\")\n",
    "for i in range(1,61):\n",
    "    same=0\n",
    "    different=0\n",
    "    for item in total_request_square[i]:\n",
    "        if int(item) in real_trace[i]:\n",
    "            same+=1\n",
    "            total_same+=1\n",
    "        else:\n",
    "            different+=1\n",
    "            total_different+=1\n",
    "#     a.write(\"segment:\")\n",
    "#     a.write(str(i)+\", \")\n",
    "#     a.write(\"same percentage:\")\n",
    "#     a.write(str(float(same/len(real_trace[i])))+\", \")\n",
    "#     a.write(\"different count:\"+str(different)+\", \")\n",
    "#     a.write(\"over download percentage: \"+str(float(total_different/(total_different+total_same)))+\"\\n\")\n",
    "    print(\"segment: %d , same percentage: %f , different count:%d\"%(i,float(same/len(real_trace[i])),different))\n",
    "#     print(\"over download percentage: %f\"%(float(total_different/(total_different+total_same))))\n",
    "    avg_accuracy += float(same/len(real_trace[i]))\n",
    "print(\"avg accuracy %f \"%(avg_accuracy/60))   \n",
    "print(\"total redundant file %d\"%(total_different))\n",
    "print(total_same+total_different)\n",
    "# a.close()"
   ]
  },
  {
   "cell_type": "code",
   "execution_count": null,
   "metadata": {
    "collapsed": true
   },
   "outputs": [],
   "source": []
  },
  {
   "cell_type": "code",
   "execution_count": null,
   "metadata": {
    "collapsed": true
   },
   "outputs": [],
   "source": []
  }
 ],
 "metadata": {
  "kernelspec": {
   "display_name": "Python 3",
   "language": "python",
   "name": "python3"
  },
  "language_info": {
   "codemirror_mode": {
    "name": "ipython",
    "version": 3
   },
   "file_extension": ".py",
   "mimetype": "text/x-python",
   "name": "python",
   "nbconvert_exporter": "python",
   "pygments_lexer": "ipython3",
   "version": "3.6.7"
  },
  "latex_envs": {
   "LaTeX_envs_menu_present": true,
   "autoclose": false,
   "autocomplete": true,
   "bibliofile": "biblio.bib",
   "cite_by": "apalike",
   "current_citInitial": 1,
   "eqLabelWithNumbers": true,
   "eqNumInitial": 1,
   "hotkeys": {
    "equation": "Ctrl-E",
    "itemize": "Ctrl-I"
   },
   "labels_anchors": false,
   "latex_user_defs": false,
   "report_style_numbering": false,
   "user_envs_cfg": false
  }
 },
 "nbformat": 4,
 "nbformat_minor": 2
}
