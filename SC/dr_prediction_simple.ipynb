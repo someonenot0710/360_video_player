{
 "cells": [
  {
   "cell_type": "code",
   "execution_count": 144,
   "metadata": {
    "collapsed": true
   },
   "outputs": [],
   "source": [
    "import math\n",
    "# from IPython.display import Image"
   ]
  },
  {
   "cell_type": "code",
   "execution_count": 145,
   "metadata": {
    "collapsed": true
   },
   "outputs": [],
   "source": [
    "# dir_path = \"sensors/\"\n",
    "# user_file_name = \"coaster_user07_orientation.csv\" \n",
    "# trace = open(dir_path+user_file_name)\n",
    "# gt_trace = dict()"
   ]
  },
  {
   "cell_type": "code",
   "execution_count": 146,
   "metadata": {
    "collapsed": true
   },
   "outputs": [],
   "source": [
    "# trace_data = trace.read().splitlines()\n",
    "# for frame in range(1,len(trace_data)):\n",
    "#     split = trace_data[frame].split(\", \")\n",
    "#     gt_trace[int(split[0])]=dict()\n",
    "#     gt_trace[int(split[0])]['yaw']=float(split[7]) # theta\n",
    "#     gt_trace[int(split[0])]['pitch']=float(split[8]) # phi\n",
    "#     gt_trace[int(split[0])]['roll']=float(split[9])\n",
    "\n"
   ]
  },
  {
   "cell_type": "code",
   "execution_count": 147,
   "metadata": {
    "collapsed": true
   },
   "outputs": [],
   "source": [
    "view_degree = 130.0"
   ]
  },
  {
   "cell_type": "code",
   "execution_count": 148,
   "metadata": {
    "collapsed": true
   },
   "outputs": [],
   "source": [
    "def init_file(video,user):\n",
    "    dir_path = \"sensors/\"\n",
    "    user_file_name = video+\"_user\"+str(user)+\"_orientation.csv\"\n",
    "#     user_file_name = \"coaster_user07_orientation.csv\" \n",
    "    trace = open(dir_path+user_file_name)\n",
    "    global gt_trace\n",
    "    gt_trace = dict()\n",
    "    trace_data = trace.read().splitlines()\n",
    "    for frame in range(1,len(trace_data)):\n",
    "        split = trace_data[frame].split(\", \")\n",
    "        gt_trace[int(split[0])]=dict()\n",
    "        gt_trace[int(split[0])]['yaw']=float(split[7]) # theta\n",
    "        gt_trace[int(split[0])]['pitch']=float(split[8]) # phi\n",
    "        gt_trace[int(split[0])]['roll']=float(split[9])"
   ]
  },
  {
   "cell_type": "code",
   "execution_count": 149,
   "metadata": {
    "collapsed": true
   },
   "outputs": [],
   "source": [
    "## dr prediction formula\n",
    "# Image(\"dr_formula.png\")"
   ]
  },
  {
   "cell_type": "code",
   "execution_count": 150,
   "metadata": {},
   "outputs": [],
   "source": [
    "# x = (yaw + 180)/360 × width \n",
    "# y = (90 − pitch)/180 × height\n",
    "def transform_to_equi(yaw,pitch):\n",
    "    x = (yaw + 180)/360 * 3840\n",
    "    y = (90 - pitch)/180 * 1920\n",
    "    return x,y\n",
    "\n",
    "def check_yaw (yaw):\n",
    "    if yaw > 180.0:\n",
    "        return yaw - 360.0\n",
    "    elif yaw < -180.0:\n",
    "        return yaw + 360.0\n",
    "    else:\n",
    "        return yaw\n",
    "\n",
    "def check_pitch_then_yaw (yaw,pitch):\n",
    "    if pitch > 90.0:\n",
    "        pitch = 180.0-pitch\n",
    "        yaw = check_yaw(yaw - 180)\n",
    "    elif pitch < - 90.0:\n",
    "        pitch = -180.0-pitch\n",
    "        yaw = check_yaw(yaw + 180)\n",
    "    \n",
    "    return yaw,pitch\n",
    "\n",
    "def pitch_canditate (pitch , each_tile_degree):\n",
    "    degree_max = view_degree / 2.0\n",
    "    count = 1.0\n",
    "    canditate = []\n",
    "    canditate.append(0) #pitch\n",
    "    while True:\n",
    "        add_degree = count * each_tile_degree\n",
    "        if add_degree > degree_max:\n",
    "            canditate.append(view_degree) # degree_max+pitch\n",
    "            canditate.append((-1)*view_degree) # -1.0*degree_max+pitch\n",
    "            break\n",
    "            \n",
    "        canditate.append(count) #add_degree+pitch\n",
    "        canditate.append(-1.0*count) #-1.0*add_degree+pitch\n",
    "        count +=1\n",
    "    return canditate\n",
    "    \n",
    "    "
   ]
  },
  {
   "cell_type": "code",
   "execution_count": 151,
   "metadata": {
    "collapsed": true
   },
   "outputs": [],
   "source": [
    "##dr prediction\n",
    "\n",
    "def dr_prediction(pre_time,now_time,v_pre={'yaw': 0, 'pitch': 0},length=0):\n",
    "\n",
    "    #time1 = 60\n",
    "    #time2 = 90\n",
    "    # prediction_time = (time2-time1)/30.0  #0.5 # should be time1 - time2 , need to transform to second /30\n",
    "    global gt_trace\n",
    "    time1 = int(pre_time*30)+1 #frame1\n",
    "    time2 = int(now_time*30)+1 #frame2\n",
    "    prediction_time = now_time - pre_time\n",
    "    if length ==0:\n",
    "        length = prediction_time\n",
    "#     print(length)\n",
    "    \n",
    "    # v_pre = dict() # for recording previous velocity\n",
    "    # v_pre['yaw']=0\n",
    "    # v_pre['pitch']=0\n",
    "\n",
    "    v_now = dict() # for recording current velocity\n",
    "    v_now['yaw']=0\n",
    "    v_now['pitch']=0\n",
    "    alpha = 0.1\n",
    "\n",
    "    next_center = dict() # for recording position that is predictred\n",
    "\n",
    "    # V_t = alpha*V_(t-1) + (1-alpha)(P_(t)-P_(t-1))\n",
    "    v_now['yaw'] = alpha*v_pre['yaw'] + (1-alpha)*(gt_trace[time2]['yaw']-gt_trace[time1]['yaw'])/prediction_time\n",
    "    v_now['pitch'] = alpha*v_pre['pitch'] + (1-alpha)*(gt_trace[time2]['pitch']-gt_trace[time1]['pitch'])/prediction_time\n",
    "    # P_(n+d) = P_n + d*V_n # d  we want to predict the fixation d time length later\n",
    "    next_center['yaw'] = gt_trace[time2]['yaw'] + length*v_now['yaw']\n",
    "    next_center['pitch'] = gt_trace[time2]['pitch'] + length*v_now['pitch']\n",
    "    \n",
    "    # 1. if yaw > 180 --> minus 360 , if yaw<-180 ---> plus 360\n",
    "    # 2. if pitch > 90 --> new_pitch = 180 - pitch, new_yaw = yaw-180  , \n",
    "    #    if pitch < -90 --> new_pitch = -180 - pitch , new_yaw = yaw+180 \n",
    "\n",
    "#     print(\"yaw:%f , pitch:%f\"% (next_center['yaw'],next_center['pitch']))\n",
    "\n",
    "    next_center['yaw'] = check_yaw(next_center['yaw'])\n",
    "    next_center['yaw'] , next_center['pitch'] = check_pitch_then_yaw(next_center['yaw'],next_center['pitch'])\n",
    "\n",
    "    print(next_center)\n",
    "    return next_center , v_now\n",
    "#     print(\"yaw:%f , pitch:%f\"% (next_center['yaw'],next_center['pitch']))"
   ]
  },
  {
   "cell_type": "code",
   "execution_count": 152,
   "metadata": {
    "collapsed": true
   },
   "outputs": [],
   "source": [
    "def get_width(pitch):\n",
    "    return (view_degree/math.cos(math.radians(pitch)))*(3840.0/360.0)\n",
    "\n",
    "def get_width_circle(width,center_pitch,other_pitch):\n",
    "    return width*math.cos(math.radians(other_pitch)-math.radians(center_pitch))\n",
    "\n",
    "def check_left_right(right,left):\n",
    "    if right > 3840.0:\n",
    "        right  = right - 3840.0 \n",
    "    if left < 0 :\n",
    "        left = left + 3840.0\n",
    "    return right,left"
   ]
  },
  {
   "cell_type": "code",
   "execution_count": 153,
   "metadata": {
    "collapsed": true,
    "scrolled": true
   },
   "outputs": [],
   "source": [
    "# match yaw pitch to equirectangular\n",
    "def get_request_tile(tile_num_w,tile_num_h,next_center): \n",
    "\n",
    "    # tile_num_w = 5\n",
    "    # tile_num_h = 5\n",
    "    degree_max = view_degree / 2.0\n",
    "    width = 3840.0\n",
    "    height = 1920.0\n",
    "    each_tile_height = height/tile_num_h\n",
    "    each_tile_width = width/tile_num_w\n",
    "    each_tile_degree = 180.0/float(tile_num_h)\n",
    "\n",
    "    x,y = transform_to_equi(next_center['yaw'],next_center['pitch']) # match yaw pitch to equirectangular x y\n",
    "\n",
    "    width_length = (view_degree/math.cos(math.radians(next_center['pitch'])))*(3840.0/360.0) # the width length we need to request at center\n",
    "\n",
    "    tmp_pitch = pitch_canditate(next_center['pitch'],each_tile_degree) # all pitch that we have to consider\n",
    "\n",
    "    request_tile = dict()\n",
    "    for item in tmp_pitch:\n",
    "        if item > 90.0:\n",
    "            now_pitch = next_center['pitch'] + degree_max\n",
    "            item = degree_max/each_tile_degree\n",
    "        elif item < -90.0:\n",
    "            now_pitch = next_center['pitch'] - degree_max\n",
    "            item = -1*(degree_max/each_tile_degree)\n",
    "        else:\n",
    "            now_pitch = item*each_tile_degree + next_center['pitch']\n",
    "\n",
    "        if now_pitch > 90.0:\n",
    "            request_tile[0]=list()\n",
    "            for i in range(0,tile_num_w):\n",
    "                request_tile[0].append(i)\n",
    "            continue\n",
    "        elif now_pitch < -90.0:\n",
    "            request_tile[tile_num_h-1]=list()\n",
    "            for i in range(0,tile_num_w):\n",
    "                request_tile[tile_num_h-1].append(i)\n",
    "            continue        \n",
    "\n",
    "#         w = get_width(now_pitch) ## square\n",
    "\n",
    "        w =  get_width_circle(width_length,next_center['pitch'],now_pitch) ## circle\n",
    "#         print(w)        \n",
    "        x_right_o = x + w/2.0\n",
    "        x_left_o = x - w/2.0\n",
    "#         print(\"pitch:%f\"%(now_pitch))\n",
    "#         print(\"w:%f\"%w)\n",
    "        tmp_y = y + item*each_tile_height*(-1.0)  ## ?? hight over 1920\n",
    "\n",
    "#         print('original:  right=%f , left=%f'%(x_right,x_left))\n",
    "        x_right,x_left=check_left_right(x_right_o,x_left_o)\n",
    "#         print('changed:  right=%f , left=%f'%(x_right,x_left))\n",
    "        right_tile = math.floor(x_right/each_tile_width)\n",
    "        left_tile = math.floor(x_left/each_tile_width)\n",
    "        y_tile_num = math.floor(tmp_y/each_tile_height)\n",
    "#         print(\"left_tile: %d , right_tile:%d\"%(left_tile,right_tile))\n",
    "        request_tile[y_tile_num]=list()\n",
    "#         print(x_right-x_left)\n",
    "        if x_right_o - x_left_o >= 3840.0 or  x_left_o - x_right_o >= 3840.0:\n",
    "#             print('in')\n",
    "            for i in range(0,tile_num_w):\n",
    "                    if i not in request_tile[y_tile_num]:\n",
    "                        request_tile[y_tile_num].append(i)\n",
    "        elif left_tile > right_tile :\n",
    "            for i in range(left_tile-1,tile_num_w):\n",
    "                if i not in request_tile[y_tile_num]:\n",
    "                    request_tile[y_tile_num].append(i)\n",
    "            for i in range(0,right_tile):\n",
    "                if i not in request_tile[y_tile_num]:\n",
    "                    request_tile[y_tile_num].append(i)\n",
    "        elif  right_tile > left_tile:\n",
    "            for i in range(left_tile,right_tile):\n",
    "                if i not in request_tile[y_tile_num]:\n",
    "                    request_tile[y_tile_num].append(i)\n",
    "        else:\n",
    "            for i in range(0,tile_num_w):\n",
    "                if i not in request_tile[y_tile_num]:\n",
    "                    request_tile[y_tile_num].append(i)        \n",
    "\n",
    "#     print(request_tile)\n",
    "\n",
    "    request_tile_in_number = list()\n",
    "    for item in request_tile:\n",
    "        for num in request_tile[item]:\n",
    "            number = item*tile_num_w + num + 1\n",
    "            if number not in request_tile_in_number:\n",
    "                request_tile_in_number.append(number)\n",
    "#     print(request_tile_in_number)\n",
    "    return request_tile_in_number\n",
    "    \n"
   ]
  },
  {
   "cell_type": "code",
   "execution_count": 154,
   "metadata": {},
   "outputs": [],
   "source": [
    "# init_file(\"coaster\",\"09\")\n",
    "\n",
    "# v_pre = {'yaw': 0, 'pitch': 0}\n",
    "# # v_pre={'yaw': -0.5679027777780008, 'pitch': 10.458011111110004}\n",
    "# next_center , v_pre = dr_prediction(3,6,v_pre,10)\n",
    "# a=get_request_tile(10,10,next_center)\n",
    "# a.sort()\n",
    "# print(len(a))"
   ]
  },
  {
   "cell_type": "code",
   "execution_count": 155,
   "metadata": {
    "collapsed": true
   },
   "outputs": [],
   "source": [
    "# v_pre = {'yaw': 0, 'pitch': 0}\n",
    "# next_center , v_pre = dr_prediction(3,6,v_pre,1)\n",
    "# a=get_request_tile(10,10,next_center)\n",
    "# a.sort()\n",
    "# print(a)"
   ]
  },
  {
   "cell_type": "code",
   "execution_count": 123,
   "metadata": {
    "collapsed": true,
    "scrolled": true
   },
   "outputs": [],
   "source": [
    "# for i in range(tile_num_h):\n",
    "#     for j in range(tile_num_w):\n",
    "#         if i*tile_num_w+j+1 in request_tile_in_number:\n",
    "#             print(\"1  \", end = '')\n",
    "#         else: print(\"0  \", end = '')\n",
    "#     print('\\n')"
   ]
  },
  {
   "cell_type": "code",
   "execution_count": null,
   "metadata": {
    "collapsed": true
   },
   "outputs": [],
   "source": []
  },
  {
   "cell_type": "code",
   "execution_count": null,
   "metadata": {
    "collapsed": true
   },
   "outputs": [],
   "source": []
  }
 ],
 "metadata": {
  "kernelspec": {
   "display_name": "Python 3",
   "language": "python",
   "name": "python3"
  },
  "language_info": {
   "codemirror_mode": {
    "name": "ipython",
    "version": 3
   },
   "file_extension": ".py",
   "mimetype": "text/x-python",
   "name": "python",
   "nbconvert_exporter": "python",
   "pygments_lexer": "ipython3",
   "version": "3.6.7"
  },
  "latex_envs": {
   "LaTeX_envs_menu_present": true,
   "autoclose": false,
   "autocomplete": true,
   "bibliofile": "biblio.bib",
   "cite_by": "apalike",
   "current_citInitial": 1,
   "eqLabelWithNumbers": true,
   "eqNumInitial": 1,
   "hotkeys": {
    "equation": "Ctrl-E",
    "itemize": "Ctrl-I"
   },
   "labels_anchors": false,
   "latex_user_defs": false,
   "report_style_numbering": false,
   "user_envs_cfg": false
  }
 },
 "nbformat": 4,
 "nbformat_minor": 2
}
