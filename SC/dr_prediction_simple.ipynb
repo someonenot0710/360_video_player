{
 "cells": [
  {
   "cell_type": "code",
   "execution_count": 247,
   "metadata": {
    "collapsed": true
   },
   "outputs": [],
   "source": [
    "import math\n",
    "import timeit\n",
    "# from IPython.display import Image"
   ]
  },
  {
   "cell_type": "code",
   "execution_count": 248,
   "metadata": {
    "collapsed": true
   },
   "outputs": [],
   "source": [
    "# dir_path = \"sensors/\"\n",
    "# user_file_name = \"coaster_user07_orientation.csv\" \n",
    "# trace = open(dir_path+user_file_name)\n",
    "# gt_trace = dict()"
   ]
  },
  {
   "cell_type": "code",
   "execution_count": 249,
   "metadata": {
    "collapsed": true
   },
   "outputs": [],
   "source": [
    "# trace_data = trace.read().splitlines()\n",
    "# for frame in range(1,len(trace_data)):\n",
    "#     split = trace_data[frame].split(\", \")\n",
    "#     gt_trace[int(split[0])]=dict()\n",
    "#     gt_trace[int(split[0])]['yaw']=float(split[7]) # theta\n",
    "#     gt_trace[int(split[0])]['pitch']=float(split[8]) # phi\n",
    "#     gt_trace[int(split[0])]['roll']=float(split[9])\n",
    "\n",
    "\n"
   ]
  },
  {
   "cell_type": "code",
   "execution_count": 250,
   "metadata": {
    "collapsed": true
   },
   "outputs": [],
   "source": [
    "view_degree = 120.0"
   ]
  },
  {
   "cell_type": "code",
   "execution_count": 251,
   "metadata": {
    "collapsed": true
   },
   "outputs": [],
   "source": [
    "def init_file(video,user):\n",
    "    dir_path = \"sensors/\"\n",
    "    user_file_name = video+\"_user\"+str(user)+\"_orientation.csv\"\n",
    "#     user_file_name = \"coaster_user07_orientation.csv\" \n",
    "    trace = open(dir_path+user_file_name)\n",
    "    global gt_trace\n",
    "    gt_trace = dict()\n",
    "    trace_data = trace.read().splitlines()\n",
    "    for frame in range(1,len(trace_data)):\n",
    "        split = trace_data[frame].split(\", \")\n",
    "        gt_trace[int(split[0])]=dict()\n",
    "        gt_trace[int(split[0])]['yaw']=float(split[7]) # theta\n",
    "        gt_trace[int(split[0])]['pitch']=float(split[8]) # phi\n",
    "        gt_trace[int(split[0])]['roll']=float(split[9])"
   ]
  },
  {
   "cell_type": "code",
   "execution_count": 252,
   "metadata": {
    "collapsed": true
   },
   "outputs": [],
   "source": [
    "# x = (yaw + 180)/360 × width \n",
    "# y = (90 − pitch)/180 × height\n",
    "def transform_to_equi(yaw,pitch):\n",
    "    x = (yaw + 180)/360 * 3840\n",
    "    y = (90 - pitch)/180 * 1920\n",
    "    return x,y\n",
    "\n",
    "def check_yaw (yaw):\n",
    "    if yaw > 180.0:\n",
    "        return yaw - 360.0\n",
    "    elif yaw < -180.0:\n",
    "        return yaw + 360.0\n",
    "    else:\n",
    "        return yaw\n",
    "\n",
    "def check_pitch_then_yaw (yaw,pitch):\n",
    "    if pitch > 90.0:\n",
    "        pitch = 180.0-pitch\n",
    "        yaw = check_yaw(yaw - 180)\n",
    "    elif pitch < - 90.0:\n",
    "        pitch = -180.0-pitch\n",
    "        yaw = check_yaw(yaw + 180)\n",
    "    \n",
    "    return yaw,pitch\n",
    "\n",
    "def pitch_canditate (pitch , each_tile_degree):\n",
    "    degree_max = view_degree / 2.0\n",
    "    count = 1.0\n",
    "    canditate = []\n",
    "    canditate.append(0) #pitch\n",
    "    while True:\n",
    "        add_degree = count * each_tile_degree\n",
    "        if add_degree > degree_max:\n",
    "#             canditate.append(view_degree) # degree_max+pitch\n",
    "#             canditate.append((-1)*view_degree) # -1.0*degree_max+pitch\n",
    "            break\n",
    "            \n",
    "        canditate.append(count) #add_degree+pitch\n",
    "        canditate.append(-1.0*count) #-1.0*add_degree+pitch\n",
    "        count +=1\n",
    "    return canditate\n",
    "    \n",
    "    "
   ]
  },
  {
   "cell_type": "code",
   "execution_count": 253,
   "metadata": {
    "collapsed": true
   },
   "outputs": [],
   "source": [
    "##dr prediction\n",
    "\n",
    "def dr_prediction(pre_time,now_time,v_pre={'yaw': 0, 'pitch': 0},length=0):\n",
    "\n",
    "    #time1 = 60\n",
    "    #time2 = 90\n",
    "    # prediction_time = (time2-time1)/30.0  #0.5 # should be time1 - time2 , need to transform to second /30\n",
    "    global gt_trace\n",
    "    time1 = int(pre_time*30)+1 #frame1\n",
    "    time2 = int(now_time*30)+1 #frame2\n",
    "    prediction_time = now_time - pre_time\n",
    "    if length ==0:\n",
    "        length = prediction_time\n",
    "#     print(length)\n",
    "    \n",
    "    # v_pre = dict() # for recording previous velocity\n",
    "    # v_pre['yaw']=0\n",
    "    # v_pre['pitch']=0\n",
    "\n",
    "    v_now = dict() # for recording current velocity\n",
    "    v_now['yaw']=0\n",
    "    v_now['pitch']=0\n",
    "    alpha = 0.1\n",
    "\n",
    "    next_center = dict() # for recording position that is predictred\n",
    "\n",
    "    # V_t = alpha*V_(t-1) + (1-alpha)(P_(t)-P_(t-1))\n",
    "    v_now['yaw'] = alpha*v_pre['yaw'] + (1-alpha)*(gt_trace[time2]['yaw']-gt_trace[time1]['yaw'])/prediction_time\n",
    "    v_now['pitch'] = alpha*v_pre['pitch'] + (1-alpha)*(gt_trace[time2]['pitch']-gt_trace[time1]['pitch'])/prediction_time\n",
    "    # P_(n+d) = P_n + d*V_n # d  we want to predict the fixation d time length later\n",
    "    next_center['yaw'] = gt_trace[time2]['yaw'] + length*v_now['yaw']\n",
    "    next_center['pitch'] = gt_trace[time2]['pitch'] + length*v_now['pitch']\n",
    "    \n",
    "    # 1. if yaw > 180 --> minus 360 , if yaw<-180 ---> plus 360\n",
    "    # 2. if pitch > 90 --> new_pitch = 180 - pitch, new_yaw = yaw-180  , \n",
    "    #    if pitch < -90 --> new_pitch = -180 - pitch , new_yaw = yaw+180 \n",
    "\n",
    "#     print(\"yaw:%f , pitch:%f\"% (next_center['yaw'],next_center['pitch']))\n",
    "\n",
    "    next_center['yaw'] = check_yaw(next_center['yaw'])\n",
    "    next_center['yaw'] , next_center['pitch'] = check_pitch_then_yaw(next_center['yaw'],next_center['pitch'])\n",
    "\n",
    "#     print(next_center)\n",
    "    return next_center , v_now\n",
    "#     print(\"yaw:%f , pitch:%f\"% (next_center['yaw'],next_center['pitch']))"
   ]
  },
  {
   "cell_type": "code",
   "execution_count": 254,
   "metadata": {
    "collapsed": true
   },
   "outputs": [],
   "source": [
    "##dr prediction\n",
    "\n",
    "def dr_prediction_acceleration(pre_time,now_time,v_pre={'yaw': 0, 'pitch': 0},a_pre={'yaw': 0, 'pitch': 0},length=0):\n",
    "\n",
    "    global gt_trace\n",
    "    time1 = int(pre_time*30)+1 #frame1\n",
    "    time2 = int(now_time*30)+1 #frame2\n",
    "    prediction_time = now_time - pre_time\n",
    "    if length ==0:\n",
    "        length = prediction_time\n",
    "\n",
    "\n",
    "    v_now = dict() # for recording current velocity\n",
    "    v_now['yaw']=0\n",
    "    v_now['pitch']=0\n",
    "    alpha = 0.1\n",
    "\n",
    "    a_now = dict() # for recording current velocity\n",
    "    a_now['yaw']=0\n",
    "    a_now['pitch']=0\n",
    "    \n",
    "    next_center = dict() # for recording position that is predictred\n",
    "\n",
    "    # V_t = alpha*V_(t-1) + (1-alpha)(P_(t)-P_(t-1))\n",
    "    v_now['yaw'] = alpha*v_pre['yaw'] + (1-alpha)*(gt_trace[time2]['yaw']-gt_trace[time1]['yaw'])/prediction_time\n",
    "    v_now['pitch'] = alpha*v_pre['pitch'] + (1-alpha)*(gt_trace[time2]['pitch']-gt_trace[time1]['pitch'])/prediction_time\n",
    "\n",
    "    a_now['yaw'] = alpha*a_pre['yaw'] + (1-alpha)*(v_now['yaw']-v_pre['yaw'])/prediction_time\n",
    "    a_now['pitch'] = alpha*a_pre['pitch'] + (1-alpha)*(v_now['pitch']-v_pre['pitch'])/prediction_time\n",
    "    \n",
    "    \n",
    "    # P_(n+d) = P_n + d*V_n # d  we want to predict the fixation d time length later\n",
    "    next_center['yaw'] = gt_trace[time2]['yaw'] + 0.5 * a_now['yaw'] * length*length\n",
    "    next_center['pitch'] = gt_trace[time2]['pitch'] + 0.5 * a_now['pitch'] * length*length\n",
    "    \n",
    "    \n",
    "    # 1. if yaw > 180 --> minus 360 , if yaw<-180 ---> plus 360\n",
    "    # 2. if pitch > 90 --> new_pitch = 180 - pitch, new_yaw = yaw-180  , \n",
    "    #    if pitch < -90 --> new_pitch = -180 - pitch , new_yaw = yaw+180 \n",
    "\n",
    "#     print(\"yaw:%f , pitch:%f\"% (next_center['yaw'],next_center['pitch']))\n",
    "\n",
    "    next_center['yaw'] = check_yaw(next_center['yaw'])\n",
    "    next_center['yaw'] , next_center['pitch'] = check_pitch_then_yaw(next_center['yaw'],next_center['pitch'])\n",
    "\n",
    "    return next_center , v_now , a_now"
   ]
  },
  {
   "cell_type": "code",
   "execution_count": 255,
   "metadata": {
    "collapsed": true
   },
   "outputs": [],
   "source": [
    "def get_width(r,pitch):\n",
    "    return (r/math.cos(math.radians(pitch)))*(3840.0/360.0)\n",
    "\n",
    "def get_width_circle(diameter,center_pitch,other_pitch):\n",
    "    radius = diameter/2.0\n",
    "\n",
    "    ## approach 1\n",
    "    r_tmp = radius * math.cos(math.asin((other_pitch-center_pitch)/radius))\n",
    "    ## approach 2\n",
    "    #     r_tmp_s = radius * math.sqrt(1-math.pow(1/math.tan(math.radians(radius)),2)*math.pow(math.tan(math.radians(other_pitch-center_pitch)),2))\n",
    "\n",
    "    #   print(\"tmp:%f , tmp_s:%f\"%(r_tmp,r_tmp_s))\n",
    "\n",
    "    return get_width(r_tmp,other_pitch)#,get_width(r_tmp_s,other_pitch)\n",
    "\n",
    "def check_left_right(right,left):\n",
    "    if right > 3840.0:\n",
    "#         right  = right - 3840.0\n",
    "        right  = right - 3840.0*int(right/3840.0) \n",
    "    if left < 0 :\n",
    "#         left = left + 3840.0\n",
    "        left = left + 3840.0*(int((-1)*left/3840.0)+1)\n",
    "    return right,left"
   ]
  },
  {
   "cell_type": "code",
   "execution_count": 256,
   "metadata": {
    "collapsed": true,
    "scrolled": true
   },
   "outputs": [],
   "source": [
    "# match yaw pitch to equirectangular\n",
    "def get_request_tile(tile_num_w,tile_num_h,next_center): \n",
    "\n",
    "    # tile_num_w = 5\n",
    "    # tile_num_h = 5\n",
    "    degree_max = view_degree / 2.0\n",
    "    width = 3840.0\n",
    "    height = 1920.0\n",
    "    each_tile_height = height/tile_num_h\n",
    "    each_tile_width = width/tile_num_w\n",
    "    each_tile_degree = 180.0/float(tile_num_h)\n",
    "\n",
    "    x,y = transform_to_equi(next_center['yaw'],next_center['pitch']) # match yaw pitch to equirectangular x y\n",
    "\n",
    "#     width_length = get_width(view_degree,next_center['pitch'])\n",
    "#     width_length = (view_degree/math.cos(math.radians(next_center['pitch'])))*(3840.0/360.0) # the width length we need to request at center\n",
    "    tmp_pitch = pitch_canditate(next_center['pitch'],each_tile_degree) # all pitch that we have to consider\n",
    "\n",
    "#     print(tmp_pitch)\n",
    "\n",
    "    request_tile = dict()\n",
    "    \n",
    "    for item in tmp_pitch:\n",
    "        '''\n",
    "        if item > 90.0:\n",
    "            now_pitch = next_center['pitch'] + degree_max\n",
    "            item = degree_max/each_tile_degree\n",
    "        elif item < -90.0:\n",
    "            now_pitch = next_center['pitch'] - degree_max\n",
    "            item = -1*(degree_max/each_tile_degree)\n",
    "        else:\n",
    "        '''\n",
    "        now_pitch = item*each_tile_degree + next_center['pitch']\n",
    "        \n",
    "        print(now_pitch)\n",
    "            \n",
    "        if now_pitch > 90.0:\n",
    "            request_tile[0]=list()\n",
    "            for i in range(0,tile_num_w):\n",
    "                request_tile[0].append(i)\n",
    "            continue\n",
    "            \n",
    "        elif now_pitch < -90.0:\n",
    "            request_tile[tile_num_h-1]=list()\n",
    "            for i in range(0,tile_num_w):\n",
    "                request_tile[tile_num_h-1].append(i)\n",
    "            continue        \n",
    "\n",
    "        w =  get_width_circle(view_degree,next_center['pitch'],now_pitch) ## circle\n",
    "        \n",
    "#         print(\"pitch:%f , width:%f , width_s:%f\"%(now_pitch,w*2,2*w_s))\n",
    "        \n",
    "        x_right_o = x + w\n",
    "        x_left_o = x - w\n",
    "        _,tmp_y=transform_to_equi(next_center['yaw'],now_pitch)\n",
    "#         tmp_y = y + item*each_tile_height*(-1.0)  ## ?? hight over 1920\n",
    "        \n",
    "\n",
    "#         print('original:  right=%f , left=%f'%(x_right,x_left))\n",
    "        x_right,x_left=check_left_right(x_right_o,x_left_o)\n",
    "#         print('changed:  right=%f , left=%f'%(x_right,x_left))\n",
    "\n",
    "        right_tile = math.floor(x_right/each_tile_width)\n",
    "        left_tile = math.floor(x_left/each_tile_width)\n",
    "        y_tile_num = math.floor(tmp_y/each_tile_height)\n",
    "        \n",
    "#         print(\"left_tile: %d , right_tile:%d\"%(left_tile,right_tile))\n",
    "        if y_tile_num not in request_tile:\n",
    "            request_tile[y_tile_num]=list()\n",
    "\n",
    "            \n",
    "        if x_right_o - x_left_o >= 3840.0 or  x_left_o - x_right_o >= 3840.0:\n",
    "            for i in range(0,tile_num_w):\n",
    "                    if i not in request_tile[y_tile_num]:\n",
    "                        request_tile[y_tile_num].append(i)\n",
    "        elif left_tile > right_tile :\n",
    "            for i in range(left_tile-1,tile_num_w):\n",
    "                if i not in request_tile[y_tile_num]:\n",
    "                    request_tile[y_tile_num].append(i)\n",
    "            for i in range(0,right_tile+1):\n",
    "                if i not in request_tile[y_tile_num]:\n",
    "                    request_tile[y_tile_num].append(i)\n",
    "        elif  right_tile > left_tile:\n",
    "            for i in range(left_tile,right_tile+1):\n",
    "                if i not in request_tile[y_tile_num]:\n",
    "                    request_tile[y_tile_num].append(i)\n",
    "        else:\n",
    "            for i in range(0,tile_num_w):\n",
    "                if i not in request_tile[y_tile_num]:\n",
    "                    request_tile[y_tile_num].append(i)        \n",
    "\n",
    "\n",
    "    request_tile_in_number = list()\n",
    "    for item in request_tile:\n",
    "        for num in request_tile[item]:\n",
    "            number = item*tile_num_w + num + 1\n",
    "            if number not in request_tile_in_number:\n",
    "                request_tile_in_number.append(number)\n",
    "#     print(request_tile_in_number)\n",
    "    return request_tile_in_number\n",
    "    \n"
   ]
  },
  {
   "cell_type": "code",
   "execution_count": 246,
   "metadata": {},
   "outputs": [],
   "source": [
    "# init_file(\"coaster\",\"09\")\n",
    "\n",
    "# #### without accerlation\n",
    "# v_pre = {'yaw': 0, 'pitch': 0}\n",
    "# start = timeit.default_timer()\n",
    "# next_center , v_pre = dr_prediction(2,8,v_pre,8)\n",
    "# a=get_request_tile(10,10,next_center)\n",
    "# exe_time = timeit.default_timer() - start \n",
    "# print(exe_time*1000)\n",
    "# a.sort()\n",
    "# print(a)"
   ]
  },
  {
   "cell_type": "code",
   "execution_count": 245,
   "metadata": {},
   "outputs": [],
   "source": [
    "#### with accerlation\n",
    "# v_pre = {'yaw': 0, 'pitch': 0}\n",
    "# a_pre = {'yaw': 0, 'pitch': 0}\n",
    "# start = timeit.default_timer()\n",
    "# next_center , v_pre , a_pre = dr_prediction_acceleration(2,8,v_pre,a_pre,8)\n",
    "# b=get_request_tile(10,10,next_center)\n",
    "# exe_time = timeit.default_timer() - start \n",
    "# print(exe_time*1000)\n",
    "# b.sort()"
   ]
  },
  {
   "cell_type": "code",
   "execution_count": 195,
   "metadata": {
    "collapsed": true
   },
   "outputs": [],
   "source": [
    "# v_pre = {'yaw': 0, 'pitch': 0}\n",
    "# next_center , v_pre = dr_prediction(3,6,v_pre,1)\n",
    "# a=get_request_tile(10,10,next_center)\n",
    "# a.sort()\n",
    "# print(a)"
   ]
  },
  {
   "cell_type": "code",
   "execution_count": 244,
   "metadata": {
    "scrolled": true
   },
   "outputs": [],
   "source": [
    "# tile_num_h=10\n",
    "# tile_num_w=10\n",
    "# for i in range(tile_num_h):\n",
    "#     for j in range(tile_num_w):\n",
    "#         if i*tile_num_w+j+1 in a:\n",
    "#             print(\"1  \", end = '')\n",
    "#         else: print(\"0  \", end = '')\n",
    "#     print('\\n')"
   ]
  },
  {
   "cell_type": "code",
   "execution_count": null,
   "metadata": {
    "collapsed": true
   },
   "outputs": [],
   "source": []
  },
  {
   "cell_type": "code",
   "execution_count": null,
   "metadata": {
    "collapsed": true
   },
   "outputs": [],
   "source": []
  }
 ],
 "metadata": {
  "kernelspec": {
   "display_name": "Python 3",
   "language": "python",
   "name": "python3"
  },
  "language_info": {
   "codemirror_mode": {
    "name": "ipython",
    "version": 3
   },
   "file_extension": ".py",
   "mimetype": "text/x-python",
   "name": "python",
   "nbconvert_exporter": "python",
   "pygments_lexer": "ipython3",
   "version": "3.6.7"
  },
  "latex_envs": {
   "LaTeX_envs_menu_present": true,
   "autoclose": false,
   "autocomplete": true,
   "bibliofile": "biblio.bib",
   "cite_by": "apalike",
   "current_citInitial": 1,
   "eqLabelWithNumbers": true,
   "eqNumInitial": 1,
   "hotkeys": {
    "equation": "Ctrl-E",
    "itemize": "Ctrl-I"
   },
   "labels_anchors": false,
   "latex_user_defs": false,
   "report_style_numbering": false,
   "user_envs_cfg": false
  }
 },
 "nbformat": 4,
 "nbformat_minor": 2
}
