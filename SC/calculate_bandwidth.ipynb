{
 "cells": [
  {
   "cell_type": "code",
   "execution_count": 87,
   "metadata": {
    "collapsed": true
   },
   "outputs": [],
   "source": [
    "import numpy as np"
   ]
  },
  {
   "cell_type": "code",
   "execution_count": null,
   "metadata": {
    "collapsed": true
   },
   "outputs": [],
   "source": []
  },
  {
   "cell_type": "code",
   "execution_count": 91,
   "metadata": {},
   "outputs": [],
   "source": [
    "def get_file(f_name):\n",
    "    file_path = '../../server_file/experiment/'+f_name\n",
    "    my_f = open(file_path)\n",
    "    my_file_all = my_f.read().splitlines()\n",
    "    \n",
    "    ## length unit -- byte\n",
    "    p_time = []\n",
    "    p_len = []\n",
    "    total = 0\n",
    "    for line in my_file_all:\n",
    "        each = line.split(' ')\n",
    "        p_time.append(each[0])\n",
    "        p_len.append(float(each[-1]))\n",
    "        total += float(each[-1])\n",
    "#     print(total)\n",
    "    return p_time , p_len\n",
    "\n",
    "def get_time(s_time):\n",
    "    return float(s_time[2])+float(s_time[1])*60+float(s_time[0])*3600\n",
    "\n",
    "def cal_bw(p_time, p_len):\n",
    "    record_band = []\n",
    "    index = 0\n",
    "    while index < len(p_time):\n",
    "        total_size = p_len[index]\n",
    "        time1 = get_time(p_time[index].split(\":\"))\n",
    "        index+=1\n",
    "        while get_time(p_time[index].split(\":\")) - time1 <= 1.000:\n",
    "            total_size += p_len[index]\n",
    "            index+=1\n",
    "            if index >= len(p_time):\n",
    "                break\n",
    "        record_band.append(total_size)\n",
    "    return record_band\n",
    "            \n",
    "        \n",
    "        \n",
    "        \n",
    "    "
   ]
  },
  {
   "cell_type": "code",
   "execution_count": 104,
   "metadata": {},
   "outputs": [
    {
     "name": "stdout",
     "output_type": "stream",
     "text": [
      "sec:0 , b/w: 70.006720\n",
      "sec:1 , b/w: 29.802640\n",
      "sec:2 , b/w: 76.646400\n",
      "sec:3 , b/w: 87.882640\n",
      "sec:4 , b/w: 58.352240\n",
      "sec:5 , b/w: 63.665040\n",
      "sec:6 , b/w: 58.753280\n",
      "sec:7 , b/w: 44.303280\n",
      "sec:8 , b/w: 61.255680\n",
      "sec:9 , b/w: 41.321920\n",
      "sec:10 , b/w: 37.332320\n",
      "sec:11 , b/w: 21.055920\n",
      "sec:12 , b/w: 30.016160\n",
      "sec:13 , b/w: 45.697040\n",
      "sec:14 , b/w: 43.236400\n",
      "sec:15 , b/w: 43.506240\n",
      "sec:16 , b/w: 56.940640\n",
      "sec:17 , b/w: 54.736160\n",
      "sec:18 , b/w: 96.854800\n",
      "sec:19 , b/w: 96.999040\n",
      "sec:20 , b/w: 86.940720\n",
      "sec:21 , b/w: 96.938480\n",
      "sec:22 , b/w: 79.627280\n",
      "sec:23 , b/w: 90.585520\n",
      "sec:24 , b/w: 29.502720\n",
      "sec:25 , b/w: 49.449360\n",
      "sec:26 , b/w: 26.862560\n",
      "sec:27 , b/w: 1.038960\n",
      "sec:28 , b/w: 24.486480\n",
      "sec:29 , b/w: 19.135280\n",
      "sec:30 , b/w: 57.070880\n",
      "sec:31 , b/w: 58.503120\n",
      "sec:32 , b/w: 42.277040\n",
      "sec:33 , b/w: 24.898400\n",
      "sec:34 , b/w: 54.425760\n",
      "sec:35 , b/w: 41.061600\n",
      "sec:36 , b/w: 23.574720\n",
      "sec:37 , b/w: 20.864800\n",
      "sec:38 , b/w: 20.625360\n",
      "sec:39 , b/w: 38.290480\n",
      "sec:40 , b/w: 41.198560\n",
      "sec:41 , b/w: 34.250720\n",
      "sec:42 , b/w: 24.084400\n",
      "sec:43 , b/w: 45.357600\n",
      "sec:44 , b/w: 28.275760\n",
      "sec:45 , b/w: 34.633040\n",
      "sec:46 , b/w: 38.255600\n",
      "sec:47 , b/w: 17.555280\n",
      "sec:48 , b/w: 24.166480\n",
      "sec:49 , b/w: 34.964960\n",
      "sec:50 , b/w: 65.929760\n",
      "sec:51 , b/w: 30.055120\n",
      "sec:52 , b/w: 23.329920\n",
      "sec:53 , b/w: 48.253680\n",
      "sec:54 , b/w: 39.665840\n",
      "sec:55 , b/w: 19.845200\n",
      "sec:56 , b/w: 38.187360\n",
      "sec:57 , b/w: 51.752160\n",
      "sec:58 , b/w: 17.687360\n",
      "sec:59 , b/w: 14.120160\n"
     ]
    }
   ],
   "source": [
    "p_time,p_len = get_file('dump_10m.txt')\n",
    "band = cal_bw(p_time,p_len)\n",
    "\n",
    "for i in range(0,len(band)):\n",
    "    used = band[i]*8\n",
    "    percentage = (used/10000000)*100\n",
    "    print(\"sec:%d , b/w: %f\"%(i,percentage))\n"
   ]
  },
  {
   "cell_type": "code",
   "execution_count": 105,
   "metadata": {},
   "outputs": [
    {
     "name": "stdout",
     "output_type": "stream",
     "text": [
      "sec:0 , b/w: 74.846080\n",
      "sec:1 , b/w: 96.942240\n",
      "sec:2 , b/w: 88.411200\n",
      "sec:3 , b/w: 88.054720\n",
      "sec:4 , b/w: 88.663360\n",
      "sec:5 , b/w: 86.236640\n",
      "sec:6 , b/w: 96.978240\n",
      "sec:7 , b/w: 60.641760\n",
      "sec:8 , b/w: 84.701920\n",
      "sec:9 , b/w: 74.748000\n",
      "sec:10 , b/w: 60.484480\n",
      "sec:11 , b/w: 46.826720\n",
      "sec:12 , b/w: 57.956160\n",
      "sec:13 , b/w: 94.033920\n",
      "sec:14 , b/w: 51.113600\n",
      "sec:15 , b/w: 77.080000\n",
      "sec:16 , b/w: 95.279360\n",
      "sec:17 , b/w: 96.963520\n",
      "sec:18 , b/w: 96.919680\n",
      "sec:19 , b/w: 90.227360\n",
      "sec:20 , b/w: 89.168480\n",
      "sec:21 , b/w: 89.320160\n",
      "sec:22 , b/w: 87.114080\n",
      "sec:23 , b/w: 77.206400\n",
      "sec:24 , b/w: 93.688320\n",
      "sec:25 , b/w: 69.518720\n",
      "sec:26 , b/w: 51.754560\n",
      "sec:27 , b/w: 47.278880\n",
      "sec:28 , b/w: 42.232960\n",
      "sec:29 , b/w: 97.358080\n",
      "sec:30 , b/w: 69.498240\n",
      "sec:31 , b/w: 96.788000\n",
      "sec:32 , b/w: 86.560320\n",
      "sec:33 , b/w: 96.863520\n",
      "sec:34 , b/w: 36.378560\n",
      "sec:35 , b/w: 54.007040\n",
      "sec:36 , b/w: 0.851520\n",
      "sec:37 , b/w: 26.532800\n",
      "sec:38 , b/w: 67.932640\n",
      "sec:39 , b/w: 61.351360\n",
      "sec:40 , b/w: 55.058880\n",
      "sec:41 , b/w: 65.847200\n",
      "sec:42 , b/w: 76.379840\n",
      "sec:43 , b/w: 61.568640\n",
      "sec:44 , b/w: 72.873440\n",
      "sec:45 , b/w: 62.789760\n",
      "sec:46 , b/w: 61.024640\n",
      "sec:47 , b/w: 54.973600\n",
      "sec:48 , b/w: 45.971680\n",
      "sec:49 , b/w: 49.524160\n",
      "sec:50 , b/w: 92.115680\n",
      "sec:51 , b/w: 92.770560\n",
      "sec:52 , b/w: 46.076160\n",
      "sec:53 , b/w: 96.884800\n",
      "sec:54 , b/w: 5.672960\n",
      "sec:55 , b/w: 80.018880\n",
      "sec:56 , b/w: 56.407040\n",
      "sec:57 , b/w: 68.280160\n",
      "sec:58 , b/w: 81.126240\n",
      "sec:59 , b/w: 35.377440\n",
      "sec:60 , b/w: 28.249920\n"
     ]
    }
   ],
   "source": [
    "p_time,p_len = get_file('dump_5m.txt')\n",
    "band = cal_bw(p_time,p_len)\n",
    "for i in range(0,len(band)):\n",
    "    used = band[i]*8\n",
    "    percentage = (used/5000000)*100\n",
    "    print(\"sec:%d , b/w: %f\"%(i,percentage))"
   ]
  },
  {
   "cell_type": "code",
   "execution_count": 96,
   "metadata": {},
   "outputs": [
    {
     "name": "stdout",
     "output_type": "stream",
     "text": [
      "38.475706\n"
     ]
    }
   ],
   "source": [
    "p_time,p_len = get_file('dump_no.txt')\n",
    "band = cal_bw(p_time,p_len)\n",
    "t = 0\n",
    "for line in band:\n",
    "    t+=line\n",
    "print(t/1000000)"
   ]
  },
  {
   "cell_type": "code",
   "execution_count": null,
   "metadata": {
    "collapsed": true
   },
   "outputs": [],
   "source": []
  }
 ],
 "metadata": {
  "kernelspec": {
   "display_name": "Python 3",
   "language": "python",
   "name": "python3"
  },
  "language_info": {
   "codemirror_mode": {
    "name": "ipython",
    "version": 3
   },
   "file_extension": ".py",
   "mimetype": "text/x-python",
   "name": "python",
   "nbconvert_exporter": "python",
   "pygments_lexer": "ipython3",
   "version": "3.6.7"
  },
  "latex_envs": {
   "LaTeX_envs_menu_present": true,
   "autoclose": false,
   "autocomplete": true,
   "bibliofile": "biblio.bib",
   "cite_by": "apalike",
   "current_citInitial": 1,
   "eqLabelWithNumbers": true,
   "eqNumInitial": 1,
   "hotkeys": {
    "equation": "Ctrl-E",
    "itemize": "Ctrl-I"
   },
   "labels_anchors": false,
   "latex_user_defs": false,
   "report_style_numbering": false,
   "user_envs_cfg": false
  }
 },
 "nbformat": 4,
 "nbformat_minor": 2
}
