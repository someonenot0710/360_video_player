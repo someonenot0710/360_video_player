{
 "cells": [
  {
   "cell_type": "code",
   "execution_count": 30,
   "metadata": {
    "collapsed": true
   },
   "outputs": [],
   "source": [
    "import numpy as np"
   ]
  },
  {
   "cell_type": "code",
   "execution_count": null,
   "metadata": {
    "collapsed": true
   },
   "outputs": [],
   "source": []
  },
  {
   "cell_type": "code",
   "execution_count": 75,
   "metadata": {},
   "outputs": [],
   "source": [
    "def get_file(f_name):\n",
    "    file_path = '../../server_file/experiment/'+f_name\n",
    "    my_f = open(file_path)\n",
    "    my_file_all = my_f.read().splitlines()\n",
    "    \n",
    "    ## length unit -- byte\n",
    "    p_time = []\n",
    "    p_len = []\n",
    "    total = 0\n",
    "    for line in my_file_all:\n",
    "        each = line.split(' ')\n",
    "        p_time.append(each[0])\n",
    "        p_len.append(float(each[-1]))\n",
    "        total += float(each[-1])\n",
    "    print(total)\n",
    "    return p_time , p_len\n",
    "\n",
    "def get_time(s_time):\n",
    "    return float(s_time[2])+float(s_time[1])*60+float(s_time[0])*3600\n",
    "\n",
    "def cal_bw(p_time, p_len):\n",
    "    record_band = []\n",
    "    index = 0\n",
    "    while index < len(p_time):\n",
    "        total_size = p_len[index]\n",
    "        time1 = get_time(p_time[index].split(\":\"))\n",
    "        index+=1\n",
    "        while get_time(p_time[index].split(\":\")) - time1 <= 1.000:\n",
    "            total_size += p_len[index]\n",
    "            index+=1\n",
    "            if index >= len(p_time):\n",
    "                break\n",
    "        record_band.append(total_size)\n",
    "    return record_band\n",
    "            \n",
    "        \n",
    "        \n",
    "        \n",
    "    "
   ]
  },
  {
   "cell_type": "code",
   "execution_count": 80,
   "metadata": {},
   "outputs": [
    {
     "name": "stdout",
     "output_type": "stream",
     "text": [
      "15352273.0\n"
     ]
    }
   ],
   "source": [
    "p_time,p_len = get_file('dump_10m.txt')\n",
    "band = cal_bw(p_time,p_len)"
   ]
  },
  {
   "cell_type": "code",
   "execution_count": 83,
   "metadata": {},
   "outputs": [
    {
     "name": "stdout",
     "output_type": "stream",
     "text": [
      "15.352273\n"
     ]
    }
   ],
   "source": [
    "t = 0\n",
    "for line in band:\n",
    "    t+=line\n",
    "print(t/1000000)"
   ]
  },
  {
   "cell_type": "code",
   "execution_count": null,
   "metadata": {
    "collapsed": true
   },
   "outputs": [],
   "source": []
  }
 ],
 "metadata": {
  "kernelspec": {
   "display_name": "Python 3",
   "language": "python",
   "name": "python3"
  },
  "language_info": {
   "codemirror_mode": {
    "name": "ipython",
    "version": 3
   },
   "file_extension": ".py",
   "mimetype": "text/x-python",
   "name": "python",
   "nbconvert_exporter": "python",
   "pygments_lexer": "ipython3",
   "version": "3.6.7"
  },
  "latex_envs": {
   "LaTeX_envs_menu_present": true,
   "autoclose": false,
   "autocomplete": true,
   "bibliofile": "biblio.bib",
   "cite_by": "apalike",
   "current_citInitial": 1,
   "eqLabelWithNumbers": true,
   "eqNumInitial": 1,
   "hotkeys": {
    "equation": "Ctrl-E",
    "itemize": "Ctrl-I"
   },
   "labels_anchors": false,
   "latex_user_defs": false,
   "report_style_numbering": false,
   "user_envs_cfg": false
  }
 },
 "nbformat": 4,
 "nbformat_minor": 2
}
